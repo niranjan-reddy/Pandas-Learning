{
 "cells": [
  {
   "cell_type": "code",
   "execution_count": 1,
   "id": "b8c900e9",
   "metadata": {},
   "outputs": [],
   "source": [
    "import pandas as pd\n",
    "import os"
   ]
  },
  {
   "cell_type": "code",
   "execution_count": 2,
   "id": "8eff937c",
   "metadata": {},
   "outputs": [],
   "source": [
    "df = pd.read_pickle(os.path.join('.', 'data_frame.pickle'))"
   ]
  },
  {
   "cell_type": "code",
   "execution_count": 3,
   "id": "1854fc30",
   "metadata": {},
   "outputs": [
    {
     "data": {
      "text/plain": [
       "id\n",
       "1035           Blake, Robert\n",
       "1036           Blake, Robert\n",
       "1037           Blake, Robert\n",
       "1038           Blake, Robert\n",
       "1039          Blake, William\n",
       "                 ...        \n",
       "122960    P-Orridge, Genesis\n",
       "122961    P-Orridge, Genesis\n",
       "121181          Hatoum, Mona\n",
       "112306         Creed, Martin\n",
       "127035     Brunias, Agostino\n",
       "Name: artist, Length: 69201, dtype: object"
      ]
     },
     "execution_count": 3,
     "metadata": {},
     "output_type": "execute_result"
    }
   ],
   "source": [
    "df.artist"
   ]
  },
  {
   "cell_type": "code",
   "execution_count": 4,
   "id": "627dc337",
   "metadata": {},
   "outputs": [
    {
     "data": {
      "text/plain": [
       "3336"
      ]
     },
     "execution_count": 4,
     "metadata": {},
     "output_type": "execute_result"
    }
   ],
   "source": [
    "artists = df['artist']\n",
    "pd.unique(artists)\n",
    "len(pd.unique(artists))"
   ]
  },
  {
   "cell_type": "code",
   "execution_count": 5,
   "id": "9399ce64",
   "metadata": {},
   "outputs": [
    {
     "data": {
      "text/plain": [
       "False    69151\n",
       "True        50\n",
       "Name: artist, dtype: int64"
      ]
     },
     "execution_count": 5,
     "metadata": {},
     "output_type": "execute_result"
    }
   ],
   "source": [
    "s = df['artist'] == 'Bacon, Francis'\n",
    "s.value_counts()"
   ]
  },
  {
   "cell_type": "code",
   "execution_count": 6,
   "id": "4b8153b5",
   "metadata": {},
   "outputs": [
    {
     "data": {
      "text/plain": [
       "50"
      ]
     },
     "execution_count": 6,
     "metadata": {},
     "output_type": "execute_result"
    }
   ],
   "source": [
    "# Other way to do the above:\n",
    "artist_counts = df['artist'].value_counts()\n",
    "artist_counts['Bacon, Francis']"
   ]
  },
  {
   "cell_type": "markdown",
   "id": "97bc3ba4",
   "metadata": {},
   "source": [
    "### Indexing done the right way..."
   ]
  },
  {
   "cell_type": "code",
   "execution_count": null,
   "id": "7a88ba2e",
   "metadata": {},
   "outputs": [],
   "source": []
  },
  {
   "cell_type": "code",
   "execution_count": null,
   "id": "5b130d42",
   "metadata": {},
   "outputs": [],
   "source": []
  },
  {
   "cell_type": "code",
   "execution_count": null,
   "id": "bc35eb60",
   "metadata": {},
   "outputs": [],
   "source": []
  },
  {
   "cell_type": "code",
   "execution_count": null,
   "id": "d058152d",
   "metadata": {},
   "outputs": [],
   "source": []
  },
  {
   "cell_type": "code",
   "execution_count": null,
   "id": "bb2a5c0b",
   "metadata": {},
   "outputs": [],
   "source": [
    "KEYS_TO_USE = ['id', 'all_artists', 'title', 'medium', \n",
    "               'acquisitionYear', 'height', \n",
    "               'width', 'units']\n"
   ]
  },
  {
   "cell_type": "code",
   "execution_count": null,
   "id": "ab930bba",
   "metadata": {},
   "outputs": [],
   "source": [
    "\"\"\" This function takes the file path and keys \n",
    "and then forms and returns the tuple\n",
    "\n",
    "\"\"\"\n",
    "def get_record_from_file(file_path, keys_to_use):\n",
    "    with open(file_path) as artwork_file:\n",
    "        content = json.load(artwork_file)\n",
    "        \n",
    "    record = []\n",
    "    for field in keys_to_use:\n",
    "        record.append(content[field])\n",
    "\n",
    "    return tuple(record)"
   ]
  },
  {
   "cell_type": "code",
   "execution_count": null,
   "id": "d02044a1",
   "metadata": {},
   "outputs": [],
   "source": [
    "\"\"\" This function traverses the directories with JSON files.\n",
    "For first file in each directory call function for processing \n",
    "single file and go to the next directory.\n",
    "\"\"\"\n",
    "\n",
    "def read_artworks_from_json(keys_to_use):\n",
    "    JSON_ROOT = os.path.join('.', 'artworks')\n",
    "    \n",
    "    artworks = []\n",
    "    for root, _, files in os.walk(JSON_ROOT):\n",
    "        for f in files:\n",
    "            if f.endswith('json'):\n",
    "                record = get_record_from_file(os.path.join(root, f),\n",
    "                                             keys_to_use)\n",
    "                artworks.append(record)\n",
    "            break\n",
    "            \n",
    "    df = pd.DataFrame.from_records(artworks,\n",
    "                                columns = keys_to_use,\n",
    "                                index = 'id')\n",
    "    \n",
    "    return df"
   ]
  },
  {
   "cell_type": "code",
   "execution_count": null,
   "id": "a2588e24",
   "metadata": {},
   "outputs": [],
   "source": [
    "df = read_artworks_from_json(KEYS_TO_USE)\n",
    "df"
   ]
  },
  {
   "cell_type": "code",
   "execution_count": null,
   "id": "b69dcc56",
   "metadata": {},
   "outputs": [],
   "source": []
  }
 ],
 "metadata": {
  "kernelspec": {
   "display_name": "Python 3 (ipykernel)",
   "language": "python",
   "name": "python3"
  },
  "language_info": {
   "codemirror_mode": {
    "name": "ipython",
    "version": 3
   },
   "file_extension": ".py",
   "mimetype": "text/x-python",
   "name": "python",
   "nbconvert_exporter": "python",
   "pygments_lexer": "ipython3",
   "version": "3.9.12"
  }
 },
 "nbformat": 4,
 "nbformat_minor": 5
}
