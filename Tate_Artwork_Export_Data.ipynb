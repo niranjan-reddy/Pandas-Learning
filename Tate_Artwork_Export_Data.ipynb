{
 "cells": [
  {
   "cell_type": "code",
   "execution_count": 1,
   "id": "initial_id",
   "metadata": {
    "collapsed": true,
    "ExecuteTime": {
     "end_time": "2023-11-10T09:04:54.898305Z",
     "start_time": "2023-11-10T09:04:54.119256Z"
    }
   },
   "outputs": [],
   "source": [
    "import pandas as pd\n",
    "import os\n",
    "\n",
    "df = pd.read_pickle(os.path.join('.', 'data_frame.pickle'))"
   ]
  },
  {
   "cell_type": "code",
   "execution_count": 2,
   "outputs": [],
   "source": [
    "# Smaller object for easier visualization\n",
    "\n",
    "small_df = df.iloc[49980:50019, :].copy()"
   ],
   "metadata": {
    "collapsed": false,
    "ExecuteTime": {
     "end_time": "2023-11-10T09:05:44.004901100Z",
     "start_time": "2023-11-10T09:05:43.997403200Z"
    }
   },
   "id": "216a2c6caae8e42d"
  },
  {
   "cell_type": "code",
   "execution_count": 4,
   "outputs": [],
   "source": [
    "# Basic Excel\n",
    "\n",
    "small_df.to_excel('basic.xlsx')\n",
    "small_df.to_excel('no_index.xlsx', index = False)\n",
    "small_df.to_excel('columns.xlsx', columns = ['artist', 'title', 'year'])"
   ],
   "metadata": {
    "collapsed": false,
    "ExecuteTime": {
     "end_time": "2023-11-10T09:08:40.677820900Z",
     "start_time": "2023-11-10T09:08:40.330891800Z"
    }
   },
   "id": "c4f2396912cf284f"
  },
  {
   "cell_type": "code",
   "execution_count": 9,
   "outputs": [],
   "source": [
    "# Multiple worksheets\n",
    "writer = pd.ExcelWriter('multiple_sheets.xlsx', engine = 'xlsxwriter')\n",
    "small_df.to_excel(writer, sheet_name = 'Preview', index = False)\n",
    "df.to_excel(writer, sheet_name = 'Complete', index = False)\n",
    "writer.close()"
   ],
   "metadata": {
    "collapsed": false,
    "ExecuteTime": {
     "end_time": "2023-11-10T09:14:43.468044Z",
     "start_time": "2023-11-10T09:14:35.904538600Z"
    }
   },
   "id": "ede08b6e051cb4b4"
  },
  {
   "cell_type": "code",
   "execution_count": 10,
   "outputs": [],
   "source": [
    "# Conditional formatting\n",
    "\n",
    "artist_counts = df['artist'].value_counts()\n",
    "artist_counts.head()\n",
    "writer = pd.ExcelWriter('colors.xlsx', engine = 'xlsxwriter')\n",
    "artist_counts.to_excel(writer, sheet_name = 'Artist Counts')\n",
    "sheet = writer.sheets['Artist Counts']\n",
    "cells_range = 'B2:B{}'.format(len(artist_counts.index))\n",
    "sheet.conditional_format(cells_range, {'type': '2_color_scale',\n",
    "                                       'min_value': '10',\n",
    "                                       'min_type': 'percentile',\n",
    "                                       'max_value': '99',\n",
    "                                       'max_type': 'percentile'})\n",
    "writer.close()"
   ],
   "metadata": {
    "collapsed": false,
    "ExecuteTime": {
     "end_time": "2023-11-10T09:20:51.245231800Z",
     "start_time": "2023-11-10T09:20:51.031664700Z"
    }
   },
   "id": "d7a06b86f6dcac04"
  },
  {
   "cell_type": "code",
   "execution_count": 11,
   "outputs": [],
   "source": [
    "# SQL\n",
    "\n",
    "import sqlite3"
   ],
   "metadata": {
    "collapsed": false,
    "ExecuteTime": {
     "end_time": "2023-11-10T09:57:03.184825100Z",
     "start_time": "2023-11-10T09:57:03.171402300Z"
    }
   },
   "id": "b6c37e345d2b79f3"
  },
  {
   "cell_type": "code",
   "execution_count": 12,
   "outputs": [],
   "source": [
    "with sqlite3.connect('my_database.db') as conn:\n",
    "    small_df.to_sql('Tate', conn)"
   ],
   "metadata": {
    "collapsed": false,
    "ExecuteTime": {
     "end_time": "2023-11-10T09:57:54.595966200Z",
     "start_time": "2023-11-10T09:57:54.567741100Z"
    }
   },
   "id": "ff7243aa941eacb3"
  },
  {
   "cell_type": "code",
   "execution_count": 13,
   "outputs": [
    {
     "data": {
      "text/plain": "\"\\nimport sqlalchemy as sa\\nwith sa.create_engine('postgresql://localhost/my_data') as conn:\\n    small_df.to_sql('Tate', conn)\\n\""
     },
     "execution_count": 13,
     "metadata": {},
     "output_type": "execute_result"
    }
   ],
   "source": [
    "# RDBMS Use has to follow the following...\n",
    "\n",
    "\"\"\"\n",
    "import sqlalchemy as sa\n",
    "with sa.create_engine('postgresql://localhost/my_data') as conn:\n",
    "    small_df.to_sql('Tate', conn)\n",
    "\"\"\""
   ],
   "metadata": {
    "collapsed": false,
    "ExecuteTime": {
     "end_time": "2023-11-10T10:01:15.105882Z",
     "start_time": "2023-11-10T10:01:15.075875700Z"
    }
   },
   "id": "82e01622ae24f8a0"
  },
  {
   "cell_type": "code",
   "execution_count": 14,
   "outputs": [],
   "source": [
    "# JSON\n",
    "\n",
    "small_df.to_json('default.json') # default document\n",
    "small_df.to_json('table.json', orient = 'table')  # schema-based"
   ],
   "metadata": {
    "collapsed": false,
    "ExecuteTime": {
     "end_time": "2023-11-10T10:03:17.415666400Z",
     "start_time": "2023-11-10T10:03:17.394640Z"
    }
   },
   "id": "99adf9c441169d6b"
  },
  {
   "cell_type": "code",
   "execution_count": null,
   "outputs": [],
   "source": [],
   "metadata": {
    "collapsed": false
   },
   "id": "1ce072cecc766995"
  }
 ],
 "metadata": {
  "kernelspec": {
   "display_name": "Python 3",
   "language": "python",
   "name": "python3"
  },
  "language_info": {
   "codemirror_mode": {
    "name": "ipython",
    "version": 2
   },
   "file_extension": ".py",
   "mimetype": "text/x-python",
   "name": "python",
   "nbconvert_exporter": "python",
   "pygments_lexer": "ipython2",
   "version": "2.7.6"
  }
 },
 "nbformat": 4,
 "nbformat_minor": 5
}
