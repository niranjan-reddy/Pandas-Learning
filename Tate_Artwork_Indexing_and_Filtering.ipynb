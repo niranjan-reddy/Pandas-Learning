{
 "cells": [
  {
   "cell_type": "code",
   "execution_count": 2,
   "id": "b8c900e9",
   "metadata": {
    "ExecuteTime": {
     "end_time": "2023-11-10T06:26:16.591230600Z",
     "start_time": "2023-11-10T06:26:16.166218Z"
    }
   },
   "outputs": [],
   "source": [
    "import pandas as pd\n",
    "import os"
   ]
  },
  {
   "cell_type": "code",
   "execution_count": 3,
   "id": "8eff937c",
   "metadata": {
    "ExecuteTime": {
     "end_time": "2023-11-10T06:26:22.553603500Z",
     "start_time": "2023-11-10T06:26:22.030989200Z"
    }
   },
   "outputs": [],
   "source": [
    "df = pd.read_pickle(os.path.join('.', 'data_frame.pickle'))"
   ]
  },
  {
   "cell_type": "code",
   "execution_count": 4,
   "id": "1854fc30",
   "metadata": {
    "ExecuteTime": {
     "end_time": "2023-11-10T06:26:23.639127300Z",
     "start_time": "2023-11-10T06:26:23.618925700Z"
    }
   },
   "outputs": [
    {
     "data": {
      "text/plain": "id\n1035           Blake, Robert\n1036           Blake, Robert\n1037           Blake, Robert\n1038           Blake, Robert\n1039          Blake, William\n                 ...        \n122960    P-Orridge, Genesis\n122961    P-Orridge, Genesis\n121181          Hatoum, Mona\n112306         Creed, Martin\n127035     Brunias, Agostino\nName: artist, Length: 69201, dtype: object"
     },
     "execution_count": 4,
     "metadata": {},
     "output_type": "execute_result"
    }
   ],
   "source": [
    "df.artist"
   ]
  },
  {
   "cell_type": "code",
   "execution_count": 5,
   "id": "627dc337",
   "metadata": {
    "ExecuteTime": {
     "end_time": "2023-11-10T06:26:27.582011Z",
     "start_time": "2023-11-10T06:26:27.543300100Z"
    }
   },
   "outputs": [
    {
     "data": {
      "text/plain": "3336"
     },
     "execution_count": 5,
     "metadata": {},
     "output_type": "execute_result"
    }
   ],
   "source": [
    "artists = df['artist']\n",
    "pd.unique(artists)\n",
    "len(pd.unique(artists))"
   ]
  },
  {
   "cell_type": "code",
   "execution_count": 6,
   "id": "9399ce64",
   "metadata": {
    "ExecuteTime": {
     "end_time": "2023-11-10T06:26:30.964641400Z",
     "start_time": "2023-11-10T06:26:30.945931900Z"
    }
   },
   "outputs": [
    {
     "data": {
      "text/plain": "artist\nFalse    69151\nTrue        50\nName: count, dtype: int64"
     },
     "execution_count": 6,
     "metadata": {},
     "output_type": "execute_result"
    }
   ],
   "source": [
    "s = df['artist'] == 'Bacon, Francis'\n",
    "s.value_counts()"
   ]
  },
  {
   "cell_type": "code",
   "execution_count": 7,
   "id": "4b8153b5",
   "metadata": {
    "ExecuteTime": {
     "end_time": "2023-11-10T06:26:34.207990600Z",
     "start_time": "2023-11-10T06:26:34.184938400Z"
    }
   },
   "outputs": [
    {
     "data": {
      "text/plain": "50"
     },
     "execution_count": 7,
     "metadata": {},
     "output_type": "execute_result"
    }
   ],
   "source": [
    "# Other way to do the above:\n",
    "artist_counts = df['artist'].value_counts()\n",
    "artist_counts['Bacon, Francis']"
   ]
  },
  {
   "cell_type": "markdown",
   "id": "97bc3ba4",
   "metadata": {},
   "source": [
    "### Indexing done the right way..."
   ]
  },
  {
   "cell_type": "markdown",
   "source": [
    "## We will:\n",
    "1. Practice using \"loc\" and \"iloc\"\n",
    "2. Find the biggest artwork in the collection by size\n",
    "3. Learn how to deal with common problems in data analysis"
   ],
   "metadata": {
    "collapsed": false
   },
   "id": "a339b6aeb72fe1d1"
  },
  {
   "cell_type": "code",
   "execution_count": 8,
   "id": "5b130d42",
   "metadata": {
    "ExecuteTime": {
     "end_time": "2023-11-10T06:33:59.429366Z",
     "start_time": "2023-11-10T06:33:59.397694900Z"
    }
   },
   "outputs": [
    {
     "data": {
      "text/plain": "             artist                                              title\nid                                                                    \n1035  Blake, Robert  A Figure Bowing before a Seated Old Man with h...\n1036  Blake, Robert  Two Drawings of Frightened Figures, Probably f...",
      "text/html": "<div>\n<style scoped>\n    .dataframe tbody tr th:only-of-type {\n        vertical-align: middle;\n    }\n\n    .dataframe tbody tr th {\n        vertical-align: top;\n    }\n\n    .dataframe thead th {\n        text-align: right;\n    }\n</style>\n<table border=\"1\" class=\"dataframe\">\n  <thead>\n    <tr style=\"text-align: right;\">\n      <th></th>\n      <th>artist</th>\n      <th>title</th>\n    </tr>\n    <tr>\n      <th>id</th>\n      <th></th>\n      <th></th>\n    </tr>\n  </thead>\n  <tbody>\n    <tr>\n      <th>1035</th>\n      <td>Blake, Robert</td>\n      <td>A Figure Bowing before a Seated Old Man with h...</td>\n    </tr>\n    <tr>\n      <th>1036</th>\n      <td>Blake, Robert</td>\n      <td>Two Drawings of Frightened Figures, Probably f...</td>\n    </tr>\n  </tbody>\n</table>\n</div>"
     },
     "execution_count": 8,
     "metadata": {},
     "output_type": "execute_result"
    }
   ],
   "source": [
    "# Demo\n",
    "df.loc[1035, 'artist']\n",
    "df.iloc[0, 0]\n",
    "df.iloc[0, :]\n",
    "df.iloc[0:2, 0:2]"
   ]
  },
  {
   "cell_type": "code",
   "execution_count": 10,
   "id": "bc35eb60",
   "metadata": {
    "ExecuteTime": {
     "end_time": "2023-11-10T06:35:45.599016Z",
     "start_time": "2023-11-10T06:35:45.513354600Z"
    }
   },
   "outputs": [
    {
     "ename": "TypeError",
     "evalue": "can't multiply sequence by non-int of type 'float'",
     "output_type": "error",
     "traceback": [
      "\u001B[1;31m---------------------------------------------------------------------------\u001B[0m",
      "\u001B[1;31mTypeError\u001B[0m                                 Traceback (most recent call last)",
      "File \u001B[1;32mH:\\WORKSPACES\\Learnings\\Pandas_Tutorial\\Tate_Gallery_Art_Collection\\venv\\Lib\\site-packages\\pandas\\core\\ops\\array_ops.py:220\u001B[0m, in \u001B[0;36m_na_arithmetic_op\u001B[1;34m(left, right, op, is_cmp)\u001B[0m\n\u001B[0;32m    219\u001B[0m \u001B[38;5;28;01mtry\u001B[39;00m:\n\u001B[1;32m--> 220\u001B[0m     result \u001B[38;5;241m=\u001B[39m \u001B[43mfunc\u001B[49m\u001B[43m(\u001B[49m\u001B[43mleft\u001B[49m\u001B[43m,\u001B[49m\u001B[43m \u001B[49m\u001B[43mright\u001B[49m\u001B[43m)\u001B[49m\n\u001B[0;32m    221\u001B[0m \u001B[38;5;28;01mexcept\u001B[39;00m \u001B[38;5;167;01mTypeError\u001B[39;00m:\n",
      "File \u001B[1;32mH:\\WORKSPACES\\Learnings\\Pandas_Tutorial\\Tate_Gallery_Art_Collection\\venv\\Lib\\site-packages\\pandas\\core\\computation\\expressions.py:242\u001B[0m, in \u001B[0;36mevaluate\u001B[1;34m(op, a, b, use_numexpr)\u001B[0m\n\u001B[0;32m    240\u001B[0m     \u001B[38;5;28;01mif\u001B[39;00m use_numexpr:\n\u001B[0;32m    241\u001B[0m         \u001B[38;5;66;03m# error: \"None\" not callable\u001B[39;00m\n\u001B[1;32m--> 242\u001B[0m         \u001B[38;5;28;01mreturn\u001B[39;00m \u001B[43m_evaluate\u001B[49m\u001B[43m(\u001B[49m\u001B[43mop\u001B[49m\u001B[43m,\u001B[49m\u001B[43m \u001B[49m\u001B[43mop_str\u001B[49m\u001B[43m,\u001B[49m\u001B[43m \u001B[49m\u001B[43ma\u001B[49m\u001B[43m,\u001B[49m\u001B[43m \u001B[49m\u001B[43mb\u001B[49m\u001B[43m)\u001B[49m  \u001B[38;5;66;03m# type: ignore[misc]\u001B[39;00m\n\u001B[0;32m    243\u001B[0m \u001B[38;5;28;01mreturn\u001B[39;00m _evaluate_standard(op, op_str, a, b)\n",
      "File \u001B[1;32mH:\\WORKSPACES\\Learnings\\Pandas_Tutorial\\Tate_Gallery_Art_Collection\\venv\\Lib\\site-packages\\pandas\\core\\computation\\expressions.py:73\u001B[0m, in \u001B[0;36m_evaluate_standard\u001B[1;34m(op, op_str, a, b)\u001B[0m\n\u001B[0;32m     72\u001B[0m     _store_test_result(\u001B[38;5;28;01mFalse\u001B[39;00m)\n\u001B[1;32m---> 73\u001B[0m \u001B[38;5;28;01mreturn\u001B[39;00m \u001B[43mop\u001B[49m\u001B[43m(\u001B[49m\u001B[43ma\u001B[49m\u001B[43m,\u001B[49m\u001B[43m \u001B[49m\u001B[43mb\u001B[49m\u001B[43m)\u001B[49m\n",
      "\u001B[1;31mTypeError\u001B[0m: can't multiply sequence by non-int of type 'float'",
      "\nDuring handling of the above exception, another exception occurred:\n",
      "\u001B[1;31mTypeError\u001B[0m                                 Traceback (most recent call last)",
      "Cell \u001B[1;32mIn[10], line 2\u001B[0m\n\u001B[0;32m      1\u001B[0m \u001B[38;5;66;03m# Try multiplication\u001B[39;00m\n\u001B[1;32m----> 2\u001B[0m \u001B[43mdf\u001B[49m\u001B[43m[\u001B[49m\u001B[38;5;124;43m'\u001B[39;49m\u001B[38;5;124;43mheight\u001B[39;49m\u001B[38;5;124;43m'\u001B[39;49m\u001B[43m]\u001B[49m\u001B[43m \u001B[49m\u001B[38;5;241;43m*\u001B[39;49m\u001B[43m \u001B[49m\u001B[43mdf\u001B[49m\u001B[43m[\u001B[49m\u001B[38;5;124;43m'\u001B[39;49m\u001B[38;5;124;43mwidth\u001B[39;49m\u001B[38;5;124;43m'\u001B[39;49m\u001B[43m]\u001B[49m\n",
      "File \u001B[1;32mH:\\WORKSPACES\\Learnings\\Pandas_Tutorial\\Tate_Gallery_Art_Collection\\venv\\Lib\\site-packages\\pandas\\core\\ops\\common.py:76\u001B[0m, in \u001B[0;36m_unpack_zerodim_and_defer.<locals>.new_method\u001B[1;34m(self, other)\u001B[0m\n\u001B[0;32m     72\u001B[0m             \u001B[38;5;28;01mreturn\u001B[39;00m \u001B[38;5;28mNotImplemented\u001B[39m\n\u001B[0;32m     74\u001B[0m other \u001B[38;5;241m=\u001B[39m item_from_zerodim(other)\n\u001B[1;32m---> 76\u001B[0m \u001B[38;5;28;01mreturn\u001B[39;00m \u001B[43mmethod\u001B[49m\u001B[43m(\u001B[49m\u001B[38;5;28;43mself\u001B[39;49m\u001B[43m,\u001B[49m\u001B[43m \u001B[49m\u001B[43mother\u001B[49m\u001B[43m)\u001B[49m\n",
      "File \u001B[1;32mH:\\WORKSPACES\\Learnings\\Pandas_Tutorial\\Tate_Gallery_Art_Collection\\venv\\Lib\\site-packages\\pandas\\core\\arraylike.py:202\u001B[0m, in \u001B[0;36mOpsMixin.__mul__\u001B[1;34m(self, other)\u001B[0m\n\u001B[0;32m    200\u001B[0m \u001B[38;5;129m@unpack_zerodim_and_defer\u001B[39m(\u001B[38;5;124m\"\u001B[39m\u001B[38;5;124m__mul__\u001B[39m\u001B[38;5;124m\"\u001B[39m)\n\u001B[0;32m    201\u001B[0m \u001B[38;5;28;01mdef\u001B[39;00m \u001B[38;5;21m__mul__\u001B[39m(\u001B[38;5;28mself\u001B[39m, other):\n\u001B[1;32m--> 202\u001B[0m     \u001B[38;5;28;01mreturn\u001B[39;00m \u001B[38;5;28;43mself\u001B[39;49m\u001B[38;5;241;43m.\u001B[39;49m\u001B[43m_arith_method\u001B[49m\u001B[43m(\u001B[49m\u001B[43mother\u001B[49m\u001B[43m,\u001B[49m\u001B[43m \u001B[49m\u001B[43moperator\u001B[49m\u001B[38;5;241;43m.\u001B[39;49m\u001B[43mmul\u001B[49m\u001B[43m)\u001B[49m\n",
      "File \u001B[1;32mH:\\WORKSPACES\\Learnings\\Pandas_Tutorial\\Tate_Gallery_Art_Collection\\venv\\Lib\\site-packages\\pandas\\core\\series.py:5815\u001B[0m, in \u001B[0;36mSeries._arith_method\u001B[1;34m(self, other, op)\u001B[0m\n\u001B[0;32m   5813\u001B[0m \u001B[38;5;28;01mdef\u001B[39;00m \u001B[38;5;21m_arith_method\u001B[39m(\u001B[38;5;28mself\u001B[39m, other, op):\n\u001B[0;32m   5814\u001B[0m     \u001B[38;5;28mself\u001B[39m, other \u001B[38;5;241m=\u001B[39m \u001B[38;5;28mself\u001B[39m\u001B[38;5;241m.\u001B[39m_align_for_op(other)\n\u001B[1;32m-> 5815\u001B[0m     \u001B[38;5;28;01mreturn\u001B[39;00m \u001B[43mbase\u001B[49m\u001B[38;5;241;43m.\u001B[39;49m\u001B[43mIndexOpsMixin\u001B[49m\u001B[38;5;241;43m.\u001B[39;49m\u001B[43m_arith_method\u001B[49m\u001B[43m(\u001B[49m\u001B[38;5;28;43mself\u001B[39;49m\u001B[43m,\u001B[49m\u001B[43m \u001B[49m\u001B[43mother\u001B[49m\u001B[43m,\u001B[49m\u001B[43m \u001B[49m\u001B[43mop\u001B[49m\u001B[43m)\u001B[49m\n",
      "File \u001B[1;32mH:\\WORKSPACES\\Learnings\\Pandas_Tutorial\\Tate_Gallery_Art_Collection\\venv\\Lib\\site-packages\\pandas\\core\\base.py:1381\u001B[0m, in \u001B[0;36mIndexOpsMixin._arith_method\u001B[1;34m(self, other, op)\u001B[0m\n\u001B[0;32m   1378\u001B[0m     rvalues \u001B[38;5;241m=\u001B[39m np\u001B[38;5;241m.\u001B[39marange(rvalues\u001B[38;5;241m.\u001B[39mstart, rvalues\u001B[38;5;241m.\u001B[39mstop, rvalues\u001B[38;5;241m.\u001B[39mstep)\n\u001B[0;32m   1380\u001B[0m \u001B[38;5;28;01mwith\u001B[39;00m np\u001B[38;5;241m.\u001B[39merrstate(\u001B[38;5;28mall\u001B[39m\u001B[38;5;241m=\u001B[39m\u001B[38;5;124m\"\u001B[39m\u001B[38;5;124mignore\u001B[39m\u001B[38;5;124m\"\u001B[39m):\n\u001B[1;32m-> 1381\u001B[0m     result \u001B[38;5;241m=\u001B[39m \u001B[43mops\u001B[49m\u001B[38;5;241;43m.\u001B[39;49m\u001B[43marithmetic_op\u001B[49m\u001B[43m(\u001B[49m\u001B[43mlvalues\u001B[49m\u001B[43m,\u001B[49m\u001B[43m \u001B[49m\u001B[43mrvalues\u001B[49m\u001B[43m,\u001B[49m\u001B[43m \u001B[49m\u001B[43mop\u001B[49m\u001B[43m)\u001B[49m\n\u001B[0;32m   1383\u001B[0m \u001B[38;5;28;01mreturn\u001B[39;00m \u001B[38;5;28mself\u001B[39m\u001B[38;5;241m.\u001B[39m_construct_result(result, name\u001B[38;5;241m=\u001B[39mres_name)\n",
      "File \u001B[1;32mH:\\WORKSPACES\\Learnings\\Pandas_Tutorial\\Tate_Gallery_Art_Collection\\venv\\Lib\\site-packages\\pandas\\core\\ops\\array_ops.py:285\u001B[0m, in \u001B[0;36marithmetic_op\u001B[1;34m(left, right, op)\u001B[0m\n\u001B[0;32m    281\u001B[0m     _bool_arith_check(op, left, right)  \u001B[38;5;66;03m# type: ignore[arg-type]\u001B[39;00m\n\u001B[0;32m    283\u001B[0m     \u001B[38;5;66;03m# error: Argument 1 to \"_na_arithmetic_op\" has incompatible type\u001B[39;00m\n\u001B[0;32m    284\u001B[0m     \u001B[38;5;66;03m# \"Union[ExtensionArray, ndarray[Any, Any]]\"; expected \"ndarray[Any, Any]\"\u001B[39;00m\n\u001B[1;32m--> 285\u001B[0m     res_values \u001B[38;5;241m=\u001B[39m \u001B[43m_na_arithmetic_op\u001B[49m\u001B[43m(\u001B[49m\u001B[43mleft\u001B[49m\u001B[43m,\u001B[49m\u001B[43m \u001B[49m\u001B[43mright\u001B[49m\u001B[43m,\u001B[49m\u001B[43m \u001B[49m\u001B[43mop\u001B[49m\u001B[43m)\u001B[49m  \u001B[38;5;66;03m# type: ignore[arg-type]\u001B[39;00m\n\u001B[0;32m    287\u001B[0m \u001B[38;5;28;01mreturn\u001B[39;00m res_values\n",
      "File \u001B[1;32mH:\\WORKSPACES\\Learnings\\Pandas_Tutorial\\Tate_Gallery_Art_Collection\\venv\\Lib\\site-packages\\pandas\\core\\ops\\array_ops.py:229\u001B[0m, in \u001B[0;36m_na_arithmetic_op\u001B[1;34m(left, right, op, is_cmp)\u001B[0m\n\u001B[0;32m    221\u001B[0m \u001B[38;5;28;01mexcept\u001B[39;00m \u001B[38;5;167;01mTypeError\u001B[39;00m:\n\u001B[0;32m    222\u001B[0m     \u001B[38;5;28;01mif\u001B[39;00m \u001B[38;5;129;01mnot\u001B[39;00m is_cmp \u001B[38;5;129;01mand\u001B[39;00m (\n\u001B[0;32m    223\u001B[0m         left\u001B[38;5;241m.\u001B[39mdtype \u001B[38;5;241m==\u001B[39m \u001B[38;5;28mobject\u001B[39m \u001B[38;5;129;01mor\u001B[39;00m \u001B[38;5;28mgetattr\u001B[39m(right, \u001B[38;5;124m\"\u001B[39m\u001B[38;5;124mdtype\u001B[39m\u001B[38;5;124m\"\u001B[39m, \u001B[38;5;28;01mNone\u001B[39;00m) \u001B[38;5;241m==\u001B[39m \u001B[38;5;28mobject\u001B[39m\n\u001B[0;32m    224\u001B[0m     ):\n\u001B[1;32m   (...)\u001B[0m\n\u001B[0;32m    227\u001B[0m         \u001B[38;5;66;03m# Don't do this for comparisons, as that will handle complex numbers\u001B[39;00m\n\u001B[0;32m    228\u001B[0m         \u001B[38;5;66;03m#  incorrectly, see GH#32047\u001B[39;00m\n\u001B[1;32m--> 229\u001B[0m         result \u001B[38;5;241m=\u001B[39m \u001B[43m_masked_arith_op\u001B[49m\u001B[43m(\u001B[49m\u001B[43mleft\u001B[49m\u001B[43m,\u001B[49m\u001B[43m \u001B[49m\u001B[43mright\u001B[49m\u001B[43m,\u001B[49m\u001B[43m \u001B[49m\u001B[43mop\u001B[49m\u001B[43m)\u001B[49m\n\u001B[0;32m    230\u001B[0m     \u001B[38;5;28;01melse\u001B[39;00m:\n\u001B[0;32m    231\u001B[0m         \u001B[38;5;28;01mraise\u001B[39;00m\n",
      "File \u001B[1;32mH:\\WORKSPACES\\Learnings\\Pandas_Tutorial\\Tate_Gallery_Art_Collection\\venv\\Lib\\site-packages\\pandas\\core\\ops\\array_ops.py:165\u001B[0m, in \u001B[0;36m_masked_arith_op\u001B[1;34m(x, y, op)\u001B[0m\n\u001B[0;32m    163\u001B[0m     \u001B[38;5;66;03m# See GH#5284, GH#5035, GH#19448 for historical reference\u001B[39;00m\n\u001B[0;32m    164\u001B[0m     \u001B[38;5;28;01mif\u001B[39;00m mask\u001B[38;5;241m.\u001B[39many():\n\u001B[1;32m--> 165\u001B[0m         result[mask] \u001B[38;5;241m=\u001B[39m \u001B[43mop\u001B[49m\u001B[43m(\u001B[49m\u001B[43mxrav\u001B[49m\u001B[43m[\u001B[49m\u001B[43mmask\u001B[49m\u001B[43m]\u001B[49m\u001B[43m,\u001B[49m\u001B[43m \u001B[49m\u001B[43myrav\u001B[49m\u001B[43m[\u001B[49m\u001B[43mmask\u001B[49m\u001B[43m]\u001B[49m\u001B[43m)\u001B[49m\n\u001B[0;32m    167\u001B[0m \u001B[38;5;28;01melse\u001B[39;00m:\n\u001B[0;32m    168\u001B[0m     \u001B[38;5;28;01mif\u001B[39;00m \u001B[38;5;129;01mnot\u001B[39;00m is_scalar(y):\n",
      "\u001B[1;31mTypeError\u001B[0m: can't multiply sequence by non-int of type 'float'"
     ]
    }
   ],
   "source": [
    "# Try multiplication\n",
    "df['height'] * df['width']"
   ]
  },
  {
   "cell_type": "code",
   "execution_count": 14,
   "id": "d058152d",
   "metadata": {
    "ExecuteTime": {
     "end_time": "2023-11-10T06:37:43.560086200Z",
     "start_time": "2023-11-10T06:37:43.504055300Z"
    }
   },
   "outputs": [
    {
     "data": {
      "text/plain": "id\n20822            (1):\n105337    (diameter):\n98671         (each):\n76420         (each):\n91391        (image):\nName: width, dtype: object"
     },
     "execution_count": 14,
     "metadata": {},
     "output_type": "execute_result"
    }
   ],
   "source": [
    "df['width'].sort_values().head()"
   ]
  },
  {
   "cell_type": "code",
   "execution_count": 15,
   "outputs": [
    {
     "data": {
      "text/plain": "id\n121283    NaN\n117863    NaN\n120549    NaN\n122900    NaN\n112306    NaN\nName: width, dtype: object"
     },
     "execution_count": 15,
     "metadata": {},
     "output_type": "execute_result"
    }
   ],
   "source": [
    "df['width'].sort_values().tail()"
   ],
   "metadata": {
    "collapsed": false,
    "ExecuteTime": {
     "end_time": "2023-11-10T06:37:45.446136Z",
     "start_time": "2023-11-10T06:37:45.394709100Z"
    }
   },
   "id": "6fb8cea497002e7a"
  },
  {
   "cell_type": "code",
   "execution_count": 16,
   "outputs": [
    {
     "ename": "ValueError",
     "evalue": "Unable to parse string \"(upper):\" at position 1839",
     "output_type": "error",
     "traceback": [
      "\u001B[1;31m---------------------------------------------------------------------------\u001B[0m",
      "\u001B[1;31mValueError\u001B[0m                                Traceback (most recent call last)",
      "File \u001B[1;32mlib.pyx:2368\u001B[0m, in \u001B[0;36mpandas._libs.lib.maybe_convert_numeric\u001B[1;34m()\u001B[0m\n",
      "\u001B[1;31mValueError\u001B[0m: Unable to parse string \"(upper):\"",
      "\nDuring handling of the above exception, another exception occurred:\n",
      "\u001B[1;31mValueError\u001B[0m                                Traceback (most recent call last)",
      "Cell \u001B[1;32mIn[16], line 2\u001B[0m\n\u001B[0;32m      1\u001B[0m \u001B[38;5;66;03m# Try to convert\u001B[39;00m\n\u001B[1;32m----> 2\u001B[0m \u001B[43mpd\u001B[49m\u001B[38;5;241;43m.\u001B[39;49m\u001B[43mto_numeric\u001B[49m\u001B[43m(\u001B[49m\u001B[43mdf\u001B[49m\u001B[43m[\u001B[49m\u001B[38;5;124;43m'\u001B[39;49m\u001B[38;5;124;43mwidth\u001B[39;49m\u001B[38;5;124;43m'\u001B[39;49m\u001B[43m]\u001B[49m\u001B[43m)\u001B[49m\n",
      "File \u001B[1;32mH:\\WORKSPACES\\Learnings\\Pandas_Tutorial\\Tate_Gallery_Art_Collection\\venv\\Lib\\site-packages\\pandas\\core\\tools\\numeric.py:222\u001B[0m, in \u001B[0;36mto_numeric\u001B[1;34m(arg, errors, downcast, dtype_backend)\u001B[0m\n\u001B[0;32m    220\u001B[0m coerce_numeric \u001B[38;5;241m=\u001B[39m errors \u001B[38;5;129;01mnot\u001B[39;00m \u001B[38;5;129;01min\u001B[39;00m (\u001B[38;5;124m\"\u001B[39m\u001B[38;5;124mignore\u001B[39m\u001B[38;5;124m\"\u001B[39m, \u001B[38;5;124m\"\u001B[39m\u001B[38;5;124mraise\u001B[39m\u001B[38;5;124m\"\u001B[39m)\n\u001B[0;32m    221\u001B[0m \u001B[38;5;28;01mtry\u001B[39;00m:\n\u001B[1;32m--> 222\u001B[0m     values, new_mask \u001B[38;5;241m=\u001B[39m \u001B[43mlib\u001B[49m\u001B[38;5;241;43m.\u001B[39;49m\u001B[43mmaybe_convert_numeric\u001B[49m\u001B[43m(\u001B[49m\u001B[43m  \u001B[49m\u001B[38;5;66;43;03m# type: ignore[call-overload]  # noqa: E501\u001B[39;49;00m\n\u001B[0;32m    223\u001B[0m \u001B[43m        \u001B[49m\u001B[43mvalues\u001B[49m\u001B[43m,\u001B[49m\n\u001B[0;32m    224\u001B[0m \u001B[43m        \u001B[49m\u001B[38;5;28;43mset\u001B[39;49m\u001B[43m(\u001B[49m\u001B[43m)\u001B[49m\u001B[43m,\u001B[49m\n\u001B[0;32m    225\u001B[0m \u001B[43m        \u001B[49m\u001B[43mcoerce_numeric\u001B[49m\u001B[38;5;241;43m=\u001B[39;49m\u001B[43mcoerce_numeric\u001B[49m\u001B[43m,\u001B[49m\n\u001B[0;32m    226\u001B[0m \u001B[43m        \u001B[49m\u001B[43mconvert_to_masked_nullable\u001B[49m\u001B[38;5;241;43m=\u001B[39;49m\u001B[43mdtype_backend\u001B[49m\u001B[43m \u001B[49m\u001B[38;5;129;43;01mis\u001B[39;49;00m\u001B[43m \u001B[49m\u001B[38;5;129;43;01mnot\u001B[39;49;00m\u001B[43m \u001B[49m\u001B[43mlib\u001B[49m\u001B[38;5;241;43m.\u001B[39;49m\u001B[43mno_default\u001B[49m\n\u001B[0;32m    227\u001B[0m \u001B[43m        \u001B[49m\u001B[38;5;129;43;01mor\u001B[39;49;00m\u001B[43m \u001B[49m\u001B[38;5;28;43misinstance\u001B[39;49m\u001B[43m(\u001B[49m\u001B[43mvalues_dtype\u001B[49m\u001B[43m,\u001B[49m\u001B[43m \u001B[49m\u001B[43mStringDtype\u001B[49m\u001B[43m)\u001B[49m\u001B[43m,\u001B[49m\n\u001B[0;32m    228\u001B[0m \u001B[43m    \u001B[49m\u001B[43m)\u001B[49m\n\u001B[0;32m    229\u001B[0m \u001B[38;5;28;01mexcept\u001B[39;00m (\u001B[38;5;167;01mValueError\u001B[39;00m, \u001B[38;5;167;01mTypeError\u001B[39;00m):\n\u001B[0;32m    230\u001B[0m     \u001B[38;5;28;01mif\u001B[39;00m errors \u001B[38;5;241m==\u001B[39m \u001B[38;5;124m\"\u001B[39m\u001B[38;5;124mraise\u001B[39m\u001B[38;5;124m\"\u001B[39m:\n",
      "File \u001B[1;32mlib.pyx:2410\u001B[0m, in \u001B[0;36mpandas._libs.lib.maybe_convert_numeric\u001B[1;34m()\u001B[0m\n",
      "\u001B[1;31mValueError\u001B[0m: Unable to parse string \"(upper):\" at position 1839"
     ]
    }
   ],
   "source": [
    "# Try to convert\n",
    "pd.to_numeric(df['width'])"
   ],
   "metadata": {
    "collapsed": false,
    "ExecuteTime": {
     "end_time": "2023-11-10T06:39:22.768753800Z",
     "start_time": "2023-11-10T06:39:22.685445900Z"
    }
   },
   "id": "8989e9a2df721537"
  },
  {
   "cell_type": "code",
   "execution_count": 17,
   "outputs": [
    {
     "data": {
      "text/plain": "id\n1035      394.0\n1036      311.0\n1037      343.0\n1038      318.0\n1039      243.0\n          ...  \n122960    305.0\n122961    305.0\n121181     45.0\n112306      NaN\n127035    508.0\nName: width, Length: 69201, dtype: float64"
     },
     "execution_count": 17,
     "metadata": {},
     "output_type": "execute_result"
    }
   ],
   "source": [
    "# Force NaNs\n",
    "pd.to_numeric(df['width'], errors='coerce')"
   ],
   "metadata": {
    "collapsed": false,
    "ExecuteTime": {
     "end_time": "2023-11-10T06:40:32.287576800Z",
     "start_time": "2023-11-10T06:40:32.250659500Z"
    }
   },
   "id": "6794840b9e0c99d7"
  },
  {
   "cell_type": "code",
   "execution_count": 18,
   "outputs": [],
   "source": [
    "df.loc[:, 'width'] = pd.to_numeric(df['width'], errors = 'coerce')"
   ],
   "metadata": {
    "collapsed": false,
    "ExecuteTime": {
     "end_time": "2023-11-10T06:41:14.143317800Z",
     "start_time": "2023-11-10T06:41:14.083143200Z"
    }
   },
   "id": "a09ddf88d1119973"
  },
  {
   "cell_type": "code",
   "execution_count": 19,
   "outputs": [],
   "source": [
    "pd.to_numeric(df['height'], errors = 'coerce')\n",
    "df.loc[:, 'height'] = pd.to_numeric(df['height'], errors = 'coerce')"
   ],
   "metadata": {
    "collapsed": false,
    "ExecuteTime": {
     "end_time": "2023-11-10T06:42:15.261361900Z",
     "start_time": "2023-11-10T06:42:15.217130Z"
    }
   },
   "id": "4de6005c00c5e3fc"
  },
  {
   "cell_type": "code",
   "execution_count": 20,
   "outputs": [
    {
     "data": {
      "text/plain": "id\n1035      165086.0\n1036       66243.0\n1037      160181.0\n1038      125292.0\n1039       81405.0\n            ...   \n122960     93025.0\n122961     93025.0\n121181    108450.0\n112306         NaN\n127035    335280.0\nLength: 69201, dtype: object"
     },
     "execution_count": 20,
     "metadata": {},
     "output_type": "execute_result"
    }
   ],
   "source": [
    "df['height'] * df['width']"
   ],
   "metadata": {
    "collapsed": false,
    "ExecuteTime": {
     "end_time": "2023-11-10T06:42:41.485372200Z",
     "start_time": "2023-11-10T06:42:41.463715400Z"
    }
   },
   "id": "e274d9d6563ecd1f"
  },
  {
   "cell_type": "code",
   "execution_count": 21,
   "outputs": [
    {
     "data": {
      "text/plain": "units\nmm    65860\nName: count, dtype: int64"
     },
     "execution_count": 21,
     "metadata": {},
     "output_type": "execute_result"
    }
   ],
   "source": [
    "df['units'].value_counts()"
   ],
   "metadata": {
    "collapsed": false,
    "ExecuteTime": {
     "end_time": "2023-11-10T06:43:08.721750500Z",
     "start_time": "2023-11-10T06:43:08.703451300Z"
    }
   },
   "id": "d86b0734655b2ab8"
  },
  {
   "cell_type": "code",
   "execution_count": 22,
   "outputs": [],
   "source": [
    "# Assign - create new columns with size\n",
    "area = df['height'] * df['width']\n",
    "df = df.assign(area = area)"
   ],
   "metadata": {
    "collapsed": false,
    "ExecuteTime": {
     "end_time": "2023-11-10T06:43:59.508167500Z",
     "start_time": "2023-11-10T06:43:59.473982200Z"
    }
   },
   "id": "aec7acb7a841756d"
  },
  {
   "cell_type": "code",
   "execution_count": 23,
   "outputs": [
    {
     "data": {
      "text/plain": "132462000.0"
     },
     "execution_count": 23,
     "metadata": {},
     "output_type": "execute_result"
    }
   ],
   "source": [
    "df['area'].max()"
   ],
   "metadata": {
    "collapsed": false,
    "ExecuteTime": {
     "end_time": "2023-11-10T06:44:11.432002900Z",
     "start_time": "2023-11-10T06:44:11.411776500Z"
    }
   },
   "id": "3ca680cbecc9ca53"
  },
  {
   "cell_type": "code",
   "execution_count": 24,
   "outputs": [
    {
     "data": {
      "text/plain": "98367"
     },
     "execution_count": 24,
     "metadata": {},
     "output_type": "execute_result"
    }
   ],
   "source": [
    "df['area'].idxmax()"
   ],
   "metadata": {
    "collapsed": false,
    "ExecuteTime": {
     "end_time": "2023-11-10T06:44:26.906200900Z",
     "start_time": "2023-11-10T06:44:26.885006500Z"
    }
   },
   "id": "434ad353d579cde6"
  },
  {
   "cell_type": "code",
   "execution_count": 25,
   "outputs": [
    {
     "data": {
      "text/plain": "artist                               Therrien, Robert\ntitle                No Title (Table and Four Chairs)\nmedium             Aluminium, steel, wood and plastic\nyear                                           2003.0\nacquisitionYear                                2008.0\nwidth                                          8920.0\nheight                                        14850.0\nunits                                              mm\narea                                      132462000.0\nName: 98367, dtype: object"
     },
     "execution_count": 25,
     "metadata": {},
     "output_type": "execute_result"
    }
   ],
   "source": [
    "df.loc[df['area'].idxmax(), :]"
   ],
   "metadata": {
    "collapsed": false,
    "ExecuteTime": {
     "end_time": "2023-11-10T06:44:54.239678400Z",
     "start_time": "2023-11-10T06:44:54.227708200Z"
    }
   },
   "id": "5c45f03bc5dc6539"
  },
  {
   "cell_type": "code",
   "execution_count": null,
   "outputs": [],
   "source": [],
   "metadata": {
    "collapsed": false
   },
   "id": "ec46204701db7be3"
  },
  {
   "cell_type": "code",
   "execution_count": null,
   "outputs": [],
   "source": [],
   "metadata": {
    "collapsed": false
   },
   "id": "4b784677e3287355"
  },
  {
   "cell_type": "code",
   "execution_count": null,
   "id": "bb2a5c0b",
   "metadata": {},
   "outputs": [],
   "source": [
    "\"\"\"KEYS_TO_USE = ['id', 'all_artists', 'title', 'medium', \n",
    "               'acquisitionYear', 'height', \n",
    "               'width', 'units']\"\"\"\n"
   ]
  },
  {
   "cell_type": "code",
   "execution_count": null,
   "id": "ab930bba",
   "metadata": {},
   "outputs": [],
   "source": [
    "\"\"\" This function takes the file path and keys \n",
    "and then forms and returns the tuple\n",
    "\n",
    "\"\"\"\n",
    "\"\"\"def get_record_from_file(file_path, keys_to_use):\n",
    "    with open(file_path) as artwork_file:\n",
    "        content = json.load(artwork_file)\n",
    "        \n",
    "    record = []\n",
    "    for field in keys_to_use:\n",
    "        record.append(content[field])\n",
    "\n",
    "    return tuple(record)\"\"\""
   ]
  },
  {
   "cell_type": "code",
   "execution_count": null,
   "id": "d02044a1",
   "metadata": {},
   "outputs": [],
   "source": [
    "\"\"\" This function traverses the directories with JSON files.\n",
    "For first file in each directory call function for processing \n",
    "single file and go to the next directory.\n",
    "\"\"\"\n",
    "\n",
    "\"\"\"def read_artworks_from_json(keys_to_use):\n",
    "    JSON_ROOT = os.path.join('.', 'artworks')\n",
    "    \n",
    "    artworks = []\n",
    "    for root, _, files in os.walk(JSON_ROOT):\n",
    "        for f in files:\n",
    "            if f.endswith('json'):\n",
    "                record = get_record_from_file(os.path.join(root, f),\n",
    "                                             keys_to_use)\n",
    "                artworks.append(record)\n",
    "            break\n",
    "            \n",
    "    df = pd.DataFrame.from_records(artworks,\n",
    "                                columns = keys_to_use,\n",
    "                                index = 'id')\n",
    "    \n",
    "    return df\"\"\""
   ]
  },
  {
   "cell_type": "code",
   "execution_count": null,
   "id": "a2588e24",
   "metadata": {},
   "outputs": [],
   "source": [
    "\"\"\"df = read_artworks_from_json(KEYS_TO_USE)\n",
    "df\"\"\""
   ]
  },
  {
   "cell_type": "code",
   "execution_count": null,
   "id": "b69dcc56",
   "metadata": {},
   "outputs": [],
   "source": []
  }
 ],
 "metadata": {
  "kernelspec": {
   "display_name": "Python 3 (ipykernel)",
   "language": "python",
   "name": "python3"
  },
  "language_info": {
   "codemirror_mode": {
    "name": "ipython",
    "version": 3
   },
   "file_extension": ".py",
   "mimetype": "text/x-python",
   "name": "python",
   "nbconvert_exporter": "python",
   "pygments_lexer": "ipython3",
   "version": "3.9.12"
  }
 },
 "nbformat": 4,
 "nbformat_minor": 5
}
